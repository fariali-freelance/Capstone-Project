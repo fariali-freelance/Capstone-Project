{
 "cells": [
  {
   "cell_type": "markdown",
   "metadata": {},
   "source": [
    "# The Battle of the Neighborhoods - Week 1"
   ]
  },
  {
   "cell_type": "markdown",
   "metadata": {},
   "source": [
    "## Part: 1"
   ]
  },
  {
   "cell_type": "markdown",
   "metadata": {},
   "source": [
    "## Introduction & Business Problem :"
   ]
  },
  {
   "cell_type": "markdown",
   "metadata": {},
   "source": [
    "### Problem Background:"
   ]
  },
  {
   "cell_type": "markdown",
   "metadata": {},
   "source": [
    "The City of New York is the financial and industrial hub of United States. It provides lot of business opportunities and business friendly environment. It is the center of fashion, and offers world-class creative talent, retail space in highly populated locations, best-in-class production companies and fashion and design schools. New York City is a global center of fashion, at the forefront of creativity, style, and innovation. This also means that the market is highly competitive for a new business venture. \n",
    "To start a new clothing and accessories outlet where people already have multiple options ,the decision needs to be taken based on realistic logics . As it is highly developed city so cost of doing business is also one of the highest. Thus, any new business venture or expansion needs to be analyzed carefully. The insights derived from analysis will give good understanding of the business environment which help in strategically targeting the market. This will help in reduction of risk. And the Return on Investment will be reasonable. \n"
   ]
  },
  {
   "cell_type": "markdown",
   "metadata": {},
   "source": [
    "## Problem Description:"
   ]
  },
  {
   "cell_type": "markdown",
   "metadata": {},
   "source": [
    "Fashion industry, multibillion-dollar global enterprise devoted to the business of making and selling clothes and NYC fashion industry makes millions annually in terms of revenue thus having a huge workforce working under umbrella of renown fashion brands.\n",
    "A dress boutique is a business which designs and sells dresses according to the fashion trends for customers in return for money, either paid through credit /debit, cash on delivery ,cash payment after purchasing any item. \n",
    "The City of New York is famous for its excellent fashion shows, fashion brands and street fashion. Its fashion culture includes an array of ethnic, western and modern designs, here are the fashion categories of brands designing items from high class to the budget friendly categories operating in in NYC.\n",
    "\n",
    "**1.Haute Couture**- highest market level, sitting at the top of the fashion hierarchy Consisting of opulent bespoke garments which have been “constructed by hand from start to finish, made from high quality, expensive, often unusual fabric, sewn with extreme attention to detail and finished by the most experienced sewers, often using time consuming, hand-executed techniques” (Britta von Basedow. 2017)\\\n",
    "**2.Luxury Fashion** – This level includes high quality designer brands, most of which belong to the three main designer conglomerates, LVMH, Kering and Richemont. Unlike Couture, the garments in Luxury Fashion are produced rather than hand-made, however they are not mass-produced, so they do still offer the desirability which comes with having limited availability and finite accessibility.\\\n",
    "**3.Bridge Brands**- These include brand names which are considered to be placed below Luxury but above High Street, and they have been created to bridge the gap between the two .The brands within this level offer great quality clothing at a more adequate price point, so they are considered as being at the high end of affordable products. The typically entry price for a garment from a Bridge Brand would be around £50, and prices will increase depending on different items. \\\n",
    "**4.Diffusion Lines** – Similar to Bridge Brands, these also build a bridge between high street and luxury, but the difference is that Diffusion Lines have actually been created by luxury labels as a more budget friendly.\\\n",
    "**5.High Street**- Provide accessibility to quality fashion, with a longer life span than economy items at affordable prices.\\\n",
    "**6.Fast Fashion**- Fast Fashion is a phenomenon in the Industry where the process of production is expedited in order to get new trends to the market as quickly and as cheaply as possible. It is a term used by fashion retailers to express that designs move from catwalk to stores extremely quick in order to capture the current fashion trends. The clothing collections created are usually based on latest fashion trends which have been presented at the most recent Fashion Weeks.\\\n",
    "**7.Economy**- The lowest level of the fashion hierarchy. This is the home of mass production and it works efficiently at getting items from sweatshops to store. Creators of economy fashion will take on board key seasonal trends and they will attempt to turn them into affordable pieces in order to let their consumers look stylish at a much lower cost.\n",
    "\n",
    "So, it is evident that to survive in such competitive market it is very important to strategically plan. Various factors need to be studied in order to decide on the Location and type of fashion category I will offer such as : \n",
    "\n",
    "1.New York Population\\\n",
    "2.New York City Demographics\\\n",
    "3.Are there any Fabric wholesale Markets, Cheap labor availability ,professional artisans etc. nearby so that our product purchased and designed according to market trends and budget friendly too?\\\n",
    "4.Are there any venues like Malls, Entertainment zones, Parks etc. nearby where floating population is high etc.\\\n",
    "5.Who are the competitors in that location?\\\n",
    "6.Fashion category of  the competitors\\\n",
    "7.Segmentation of the Borough\\\n",
    "Therefore, my Boutique/outlet needs to open in the correct location to start my first venture. If this becomes successful, then I can replicate the same in other locations. First move is very important, thereby choice of location based on the factors above is very important.\n",
    "\n",
    "\n"
   ]
  },
  {
   "cell_type": "markdown",
   "metadata": {},
   "source": [
    "## Target Audience:"
   ]
  },
  {
   "cell_type": "markdown",
   "metadata": {},
   "source": [
    "My objective is to locate and recommend the best location for my dress designing boutique to my team. I have to recommend about  which neighborhood of New York city will be best choice. The recommendation I make should be based on facts and figures to convince my team ."
   ]
  },
  {
   "cell_type": "markdown",
   "metadata": {},
   "source": [
    "## Success Criteria:"
   ]
  },
  {
   "cell_type": "markdown",
   "metadata": {},
   "source": [
    "The success criteria of the project will be a good recommendation of borough/Neighborhood choice based on Lack of such boutique in that location"
   ]
  },
  {
   "cell_type": "code",
   "execution_count": null,
   "metadata": {},
   "outputs": [],
   "source": []
  }
 ],
 "metadata": {
  "kernelspec": {
   "display_name": "Python",
   "language": "python",
   "name": "conda-env-python-py"
  },
  "language_info": {
   "codemirror_mode": {
    "name": "ipython",
    "version": 3
   },
   "file_extension": ".py",
   "mimetype": "text/x-python",
   "name": "python",
   "nbconvert_exporter": "python",
   "pygments_lexer": "ipython3",
   "version": "3.6.10"
  }
 },
 "nbformat": 4,
 "nbformat_minor": 4
}
