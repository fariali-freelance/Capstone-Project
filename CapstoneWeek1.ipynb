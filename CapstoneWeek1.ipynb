{
 "cells": [
  {
   "cell_type": "markdown",
   "metadata": {},
   "source": [
    "## Business Case:"
   ]
  },
  {
   "cell_type": "markdown",
   "metadata": {},
   "source": [
    "##### Karachi the financial and industrial hub of Pakistan having population of around 24,000,000 people as of 2015 data .It is diverse and is the financial capital of Pakistan. It provides lot of business opportunities and business friendly environment. It has attracted many different players into the market. It means that there is a lot of competition in terms of starting a business according the needs of people.\n",
    "##### The city is a major center for banking and finance, retailing, transportation, real estate, advertising, legal services, Fisheries ,accountancy, insurance, theater, fashion, and the arts. Due to the only revenue generating city many people from all over Pakistan have migrated to the city which has resulted in sky reaching residential prices .\n",
    "##### This means that investing in retail business is out of reach of common men in elite areas of the city. There should be platforms having real time data available for potential buyers with variable budget range to buy or invest in retail business. So far there is no real time data available to compare the range of options based on its neighborhood and invest in it.\n"
   ]
  },
  {
   "cell_type": "markdown",
   "metadata": {},
   "source": [
    "### Problem Description:"
   ]
  },
  {
   "cell_type": "markdown",
   "metadata": {},
   "source": [
    "##### There is no real time data available for potential buyers to look for the options with variable budget range to buy property from list of options after comparing the feasible & likeable neighborhoods."
   ]
  },
  {
   "cell_type": "markdown",
   "metadata": {},
   "source": [
    "### Target Audience:"
   ]
  },
  {
   "cell_type": "markdown",
   "metadata": {},
   "source": [
    "##### The objective is to locate and recommend to the management which neighborhood of Karachi city which will be best choice to invest in retail."
   ]
  },
  {
   "cell_type": "markdown",
   "metadata": {},
   "source": [
    "## Success Criteria:"
   ]
  },
  {
   "cell_type": "markdown",
   "metadata": {},
   "source": [
    "##### The success criteria of the project will be a good recommendation of borough/Neighborhood choice to people based on budget friendly location to invest ."
   ]
  },
  {
   "cell_type": "code",
   "execution_count": null,
   "metadata": {},
   "outputs": [],
   "source": []
  }
 ],
 "metadata": {
  "kernelspec": {
   "display_name": "Python",
   "language": "python",
   "name": "conda-env-python-py"
  },
  "language_info": {
   "codemirror_mode": {
    "name": "ipython",
    "version": 3
   },
   "file_extension": ".py",
   "mimetype": "text/x-python",
   "name": "python",
   "nbconvert_exporter": "python",
   "pygments_lexer": "ipython3",
   "version": "3.6.10"
  }
 },
 "nbformat": 4,
 "nbformat_minor": 4
}
