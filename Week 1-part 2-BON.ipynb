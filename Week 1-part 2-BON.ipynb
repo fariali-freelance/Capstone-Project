{
 "cells": [
  {
   "cell_type": "markdown",
   "metadata": {},
   "source": [
    "# The Battle of the Neighborhoods - Week "
   ]
  },
  {
   "cell_type": "markdown",
   "metadata": {},
   "source": [
    "## Part: 2"
   ]
  },
  {
   "cell_type": "markdown",
   "metadata": {},
   "source": [
    "### Data :"
   ]
  },
  {
   "cell_type": "markdown",
   "metadata": {},
   "source": [
    "City to be analyzed in this project : **New York City**.\n",
    "We will be using the below datasets for analyzing New York city & Fashion Industry of NYC\n"
   ]
  },
  {
   "cell_type": "markdown",
   "metadata": {},
   "source": [
    "**Data 1 :** Neighborhood has a total of 5 boroughs and 306 neighborhoods. In order to segment the neighborhoods and explore them, we will essentially need a dataset that contains the 5 boroughs and the neighborhoods that exist in each borough as well as the latitude and longitude coordinates of each neighborhood.\n",
    "This dataset exists for free on the web. \\\n",
    "Link to the dataset  https://geo.nyu.edu/catalog/nyu_2451_34572\n"
   ]
  },
  {
   "cell_type": "markdown",
   "metadata": {},
   "source": [
    "**Data 2 :** Second data which will be fabric wholesale markets in NYC segmented into neighborhoods, we will cluster the data of each neighborhood and will explore the number of outlets.\\\n",
    "WEBLINK: https://www.yelp.com/search?find_desc=Wholesale+Fabric&find_loc=New+York%2C+NY\n",
    "\n"
   ]
  },
  {
   "cell_type": "markdown",
   "metadata": {},
   "source": [
    "**Data 3 :** We will analyze the data of fashion/clothing stores opened in years ranging from 2015-2019 in New York city, we will segment the data in boroughs and will find out how many stores have been opened in neighborhoods and what is their frequency , what is the accumulative number of these fashion stores/outlets/boutiques in the recent years.\\\n",
    "This data will be scraped from the link below,\n",
    "We will scrape data from page 10-24\n",
    "\n",
    "Weblink : https://nycfuture.org/pdf/CUF_StateoftheChains_2019_7.pdf\n"
   ]
  },
  {
   "cell_type": "markdown",
   "metadata": {},
   "source": [
    "**Data 4 :** For analysis of NYC dataset we will get data from Wikipedia as given below :\\\n",
    "1.New York Population\\\n",
    "2.New York City Demographics\n",
    "\n",
    "Weblink:https://en.wikipedia.org/wiki/New_York_City \\\n",
    "Weblink:https://en.wikipedia.org/wiki/Portal:New_York_City\n",
    "\n"
   ]
  },
  {
   "cell_type": "code",
   "execution_count": null,
   "metadata": {},
   "outputs": [],
   "source": []
  }
 ],
 "metadata": {
  "kernelspec": {
   "display_name": "Python",
   "language": "python",
   "name": "conda-env-python-py"
  },
  "language_info": {
   "codemirror_mode": {
    "name": "ipython",
    "version": 3
   },
   "file_extension": ".py",
   "mimetype": "text/x-python",
   "name": "python",
   "nbconvert_exporter": "python",
   "pygments_lexer": "ipython3",
   "version": "3.6.10"
  }
 },
 "nbformat": 4,
 "nbformat_minor": 4
}
